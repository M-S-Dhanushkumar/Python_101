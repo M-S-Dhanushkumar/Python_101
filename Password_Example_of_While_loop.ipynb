{
  "nbformat": 4,
  "nbformat_minor": 0,
  "metadata": {
    "colab": {
      "provenance": [],
      "authorship_tag": "ABX9TyNAeIuThLgi7r4XxcQV9Hkk",
      "include_colab_link": true
    },
    "kernelspec": {
      "name": "python3",
      "display_name": "Python 3"
    },
    "language_info": {
      "name": "python"
    }
  },
  "cells": [
    {
      "cell_type": "markdown",
      "metadata": {
        "id": "view-in-github",
        "colab_type": "text"
      },
      "source": [
        "<a href=\"https://colab.research.google.com/github/M-S-Dhanushkumar/Python_101/blob/main/Password_Example_of_While_loop.ipynb\" target=\"_parent\"><img src=\"https://colab.research.google.com/assets/colab-badge.svg\" alt=\"Open In Colab\"/></a>"
      ]
    },
    {
      "cell_type": "code",
      "execution_count": 3,
      "metadata": {
        "colab": {
          "base_uri": "https://localhost:8080/"
        },
        "id": "XkjULmkWxlAs",
        "outputId": "bd09dfa7-2cf0-49e7-c7a6-a46036c831ef"
      },
      "outputs": [
        {
          "output_type": "stream",
          "name": "stdout",
          "text": [
            "Enter the password: 123\n",
            "Enter the password: pass123\n",
            "Password was correct\n"
          ]
        }
      ],
      "source": [
        "password = input(\"Enter the password: \")\n",
        "\n",
        "while password != 'pass123':\n",
        "    password = input('Enter the password: ')\n",
        "\n",
        "print(\"Password was correct\")"
      ]
    }
  ]
}