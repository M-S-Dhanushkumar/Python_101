{
  "nbformat": 4,
  "nbformat_minor": 0,
  "metadata": {
    "colab": {
      "provenance": [],
      "authorship_tag": "ABX9TyMBhg6G0kjLzOXbEwvBZ/pF",
      "include_colab_link": true
    },
    "kernelspec": {
      "name": "python3",
      "display_name": "Python 3"
    },
    "language_info": {
      "name": "python"
    }
  },
  "cells": [
    {
      "cell_type": "markdown",
      "metadata": {
        "id": "view-in-github",
        "colab_type": "text"
      },
      "source": [
        "<a href=\"https://colab.research.google.com/github/M-S-Dhanushkumar/Python_101/blob/main/dice_rolling_simulator.ipynb\" target=\"_parent\"><img src=\"https://colab.research.google.com/assets/colab-badge.svg\" alt=\"Open In Colab\"/></a>"
      ]
    },
    {
      "cell_type": "code",
      "execution_count": 2,
      "metadata": {
        "colab": {
          "base_uri": "https://localhost:8080/"
        },
        "id": "vbkbxuz1bo1n",
        "outputId": "8e92778d-a5f3-4650-9721-e34c1ffaf709"
      },
      "outputs": [
        {
          "name": "stdout",
          "output_type": "stream",
          "text": [
            "Welcome to the Dice Rolling Simulator!\n",
            "Press Enter to roll the dice...\n",
            "You rolled a 3!\n",
            "Do you want to roll again? (yes/no): no\n"
          ]
        }
      ],
      "source": [
        "import random\n",
        "\n",
        "def dice_rolling_simulator():\n",
        "    print(\"Welcome to the Dice Rolling Simulator!\")\n",
        "\n",
        "    while True:\n",
        "        input(\"Press Enter to roll the dice...\")\n",
        "\n",
        "        # Generate a random number between 1 and 6 to simulate the dice roll\n",
        "        dice_roll = random.randint(1, 6)\n",
        "\n",
        "        print(f\"You rolled a {dice_roll}!\")\n",
        "\n",
        "        play_again = input(\"Do you want to roll again? (yes/no): \")\n",
        "        if play_again.lower() != 'yes':\n",
        "            break\n",
        "\n",
        "if __name__ == \"__main__\":\n",
        "    dice_rolling_simulator()\n"
      ]
    }
  ]
}