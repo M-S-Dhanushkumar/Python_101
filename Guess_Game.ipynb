{
  "nbformat": 4,
  "nbformat_minor": 0,
  "metadata": {
    "colab": {
      "provenance": [],
      "authorship_tag": "ABX9TyOX0oLLfK8FmQdaBtw5Y31M",
      "include_colab_link": true
    },
    "kernelspec": {
      "name": "python3",
      "display_name": "Python 3"
    },
    "language_info": {
      "name": "python"
    }
  },
  "cells": [
    {
      "cell_type": "markdown",
      "metadata": {
        "id": "view-in-github",
        "colab_type": "text"
      },
      "source": [
        "<a href=\"https://colab.research.google.com/github/M-S-Dhanushkumar/Python_101/blob/main/Guess_Game.ipynb\" target=\"_parent\"><img src=\"https://colab.research.google.com/assets/colab-badge.svg\" alt=\"Open In Colab\"/></a>"
      ]
    },
    {
      "cell_type": "code",
      "execution_count": null,
      "metadata": {
        "colab": {
          "base_uri": "https://localhost:8080/"
        },
        "id": "lvr2JUjVrql4",
        "outputId": "af5d1647-a1ae-40c3-8fc5-6ddf7f0ecf62"
      },
      "outputs": [
        {
          "output_type": "stream",
          "name": "stdout",
          "text": [
            "2\n",
            "Too low\n",
            "50\n",
            "Too low\n",
            "75\n",
            "Too High\n",
            "65\n",
            "Too low\n",
            "70\n",
            "Too low\n",
            "73\n",
            "you guessed right!\n"
          ]
        }
      ],
      "source": [
        "import random\n",
        "\n",
        "n = random.randint(1,100)\n",
        "#guess = int(input())\n",
        "while guess != n:\n",
        "  guess = int(input())\n",
        "  if n < guess:\n",
        "    print(\"Too High\")\n",
        "  elif guess < n:\n",
        "    print('Too low')\n",
        "  elif guess == n:\n",
        "    print(\"you guessed right!\")"
      ]
    }
  ]
}