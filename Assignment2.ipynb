{
  "nbformat": 4,
  "nbformat_minor": 0,
  "metadata": {
    "colab": {
      "provenance": [],
      "authorship_tag": "ABX9TyPSMM0z860GyFyJSW6p4yl3",
      "include_colab_link": true
    },
    "kernelspec": {
      "name": "python3",
      "display_name": "Python 3"
    },
    "language_info": {
      "name": "python"
    }
  },
  "cells": [
    {
      "cell_type": "markdown",
      "metadata": {
        "id": "view-in-github",
        "colab_type": "text"
      },
      "source": [
        "<a href=\"https://colab.research.google.com/github/M-S-Dhanushkumar/Python_101/blob/main/Assignment2.ipynb\" target=\"_parent\"><img src=\"https://colab.research.google.com/assets/colab-badge.svg\" alt=\"Open In Colab\"/></a>"
      ]
    },
    {
      "cell_type": "code",
      "execution_count": null,
      "metadata": {
        "colab": {
          "base_uri": "https://localhost:8080/"
        },
        "id": "GKhRhVbghNjI",
        "outputId": "87c12986-4d99-4a3d-8d11-79cd3e37f974"
      },
      "outputs": [
        {
          "output_type": "stream",
          "name": "stdout",
          "text": [
            "Name: dhanush\n",
            "Age: 24\n",
            "Hello  dhanush you are  24 years old.\n"
          ]
        }
      ],
      "source": [
        "name = input('Name: ')\n",
        "age = int(input('Age: '))\n",
        "print(\"Hello \", name , \"you are \" , age , \"years old.\" )"
      ]
    },
    {
      "cell_type": "code",
      "source": [
        "name = input('Name: ')\n",
        "age = int(input('Age: '))\n",
        "print(f\"Hello! {name} you are {age} years old.\" )"
      ],
      "metadata": {
        "id": "krXF7ubViHJ0",
        "colab": {
          "base_uri": "https://localhost:8080/"
        },
        "outputId": "a83af7fe-ce5f-4fcc-db59-14252e39287f"
      },
      "execution_count": 3,
      "outputs": [
        {
          "output_type": "stream",
          "name": "stdout",
          "text": [
            "Name: Dhanush\n",
            "Age: 24\n",
            "Hello Dhanush you are 24 years old.\n"
          ]
        }
      ]
    },
    {
      "cell_type": "code",
      "source": [
        "C = float(input(\"Temperature in Celsius: \"))\n",
        "F = C * 1.8 + 32\n",
        "print(\"Your temperature is\", F)\n"
      ],
      "metadata": {
        "colab": {
          "base_uri": "https://localhost:8080/"
        },
        "id": "dpw4LdZekM50",
        "outputId": "743b8f03-b271-4cfd-f584-4629e7825e44"
      },
      "execution_count": 5,
      "outputs": [
        {
          "output_type": "stream",
          "name": "stdout",
          "text": [
            "Temperature in Celsius: 35.7\n",
            "Your temperature is 96.26\n"
          ]
        }
      ]
    },
    {
      "cell_type": "code",
      "source": [
        "Rad = float(input(\"Radius: \"))\n",
        "pie = 3.14\n",
        "Area = pie * Rad**2\n",
        "print(f\"Area of the circle: {Area}\")\n"
      ],
      "metadata": {
        "colab": {
          "base_uri": "https://localhost:8080/"
        },
        "id": "4bcZYkivlfNL",
        "outputId": "935a176e-4f68-463b-a517-9094fa7c6aed"
      },
      "execution_count": 7,
      "outputs": [
        {
          "output_type": "stream",
          "name": "stdout",
          "text": [
            "Radius: 2\n",
            "Area of the circle: 12.56\n"
          ]
        }
      ]
    },
    {
      "cell_type": "code",
      "source": [
        "string = input(\"Word: \")\n",
        "list = string[::-1]\n",
        "print(f\"the string in reverse order: {list}\")"
      ],
      "metadata": {
        "colab": {
          "base_uri": "https://localhost:8080/"
        },
        "id": "oPimMc3enKRm",
        "outputId": "638cb2c4-0dd9-4643-d973-339bbe3e0ad2"
      },
      "execution_count": 10,
      "outputs": [
        {
          "output_type": "stream",
          "name": "stdout",
          "text": [
            "Word: Thamizh\n",
            "the string in reverse order: hzimahT\n"
          ]
        }
      ]
    },
    {
      "cell_type": "code",
      "source": [
        "Number = int(input('Number: '))\n",
        "Expo = int(input('Exponential: '))\n",
        "x = Number ** Expo\n",
        "print(f\"number of power of the result-> {x}\")\n"
      ],
      "metadata": {
        "colab": {
          "base_uri": "https://localhost:8080/"
        },
        "id": "0sge16mSvfNd",
        "outputId": "790b8ae8-e737-4b58-e09d-dc55c812e193"
      },
      "execution_count": 16,
      "outputs": [
        {
          "output_type": "stream",
          "name": "stdout",
          "text": [
            "Number: 3\n",
            "Exponential: 5\n",
            "number of power of the result-> 243\n"
          ]
        }
      ]
    }
  ]
}