{
  "nbformat": 4,
  "nbformat_minor": 0,
  "metadata": {
    "colab": {
      "provenance": [],
      "include_colab_link": true
    },
    "kernelspec": {
      "name": "python3",
      "display_name": "Python 3"
    },
    "language_info": {
      "name": "python"
    }
  },
  "cells": [
    {
      "cell_type": "markdown",
      "metadata": {
        "id": "view-in-github",
        "colab_type": "text"
      },
      "source": [
        "<a href=\"https://colab.research.google.com/github/M-S-Dhanushkumar/Python_101/blob/main/Basics_Assignment_22Apr2023.ipynb\" target=\"_parent\"><img src=\"https://colab.research.google.com/assets/colab-badge.svg\" alt=\"Open In Colab\"/></a>"
      ]
    },
    {
      "cell_type": "markdown",
      "source": [
        "Mailing List: Create a program that displays your name and complete mailing address formatted in\n",
        "the manner that you would usually see it on the outside of an envelope. Your program\n",
        "does not need to read any input from the user.\n"
      ],
      "metadata": {
        "id": "6HVfbD9qi42f"
      }
    },
    {
      "cell_type": "code",
      "source": [
        "print(\"Name: Dhanushkumar\\nAddress: 6/23 K.R.K Street,\\nCheyyar 604407.\")"
      ],
      "metadata": {
        "colab": {
          "base_uri": "https://localhost:8080/"
        },
        "id": "HbK0WcYii1Oa",
        "outputId": "ce81c8c6-29cb-4ea6-800d-b9c9734d9e45"
      },
      "execution_count": null,
      "outputs": [
        {
          "output_type": "stream",
          "name": "stdout",
          "text": [
            "Name: Dhanushkumar\n",
            "Address: 6/23 K.R.K Street,\n",
            "Cheyyar 604407.\n"
          ]
        }
      ]
    },
    {
      "cell_type": "markdown",
      "source": [
        "Type - 2"
      ],
      "metadata": {
        "id": "Z1FCnYK0kwEp"
      }
    },
    {
      "cell_type": "code",
      "source": [
        "print(\"Name: Dhanushkumar\")\n",
        "print(\"Address: No.6/23 k.r.k Street,\")\n",
        "print(\"Cheyyar 604407.\")"
      ],
      "metadata": {
        "colab": {
          "base_uri": "https://localhost:8080/"
        },
        "id": "FmbOrEG9k1w9",
        "outputId": "dfada7fe-b166-41ee-913a-78afd8285aec"
      },
      "execution_count": null,
      "outputs": [
        {
          "output_type": "stream",
          "name": "stdout",
          "text": [
            "Name: Dhanushkumar\n",
            "Address: No.6/23 k.r.k Street,\n",
            "Cheyyar 604407.\n"
          ]
        }
      ]
    },
    {
      "cell_type": "markdown",
      "source": [
        " Write a program that asks the user to enter his or her name. The program should respond with a message that says hello to the user, using his or her name."
      ],
      "metadata": {
        "id": "bIdQgjM9pI2k"
      }
    },
    {
      "cell_type": "code",
      "source": [
        "user = input(\"Enter your name: \")\n",
        "print(f\"Hello {user}\")"
      ],
      "metadata": {
        "colab": {
          "base_uri": "https://localhost:8080/"
        },
        "id": "cXX8kZ8lpKxe",
        "outputId": "4f7f1dca-7dc1-42fc-9f97-83b034800b07"
      },
      "execution_count": null,
      "outputs": [
        {
          "output_type": "stream",
          "name": "stdout",
          "text": [
            "Enter your name: MSD\n",
            "Hello MSD\n"
          ]
        }
      ]
    },
    {
      "cell_type": "markdown",
      "source": [
        "Write a program that asks the user to enter the width and length of a room. Once the values have been read, your program should compute and display the area of the room. The length and the width will be entered as floating point numbers. Include units in your prompt and output message; either feet or meters, depending on which unit you are more comfortable working with."
      ],
      "metadata": {
        "id": "GMO11_1j3tmW"
      }
    },
    {
      "cell_type": "code",
      "source": [
        "width = float(input())\n",
        "length = float(input())\n",
        "Area = width*length\n",
        "print(f\"Area of the room: {Area} ft\")"
      ],
      "metadata": {
        "colab": {
          "base_uri": "https://localhost:8080/"
        },
        "id": "CbAsZ4-A305D",
        "outputId": "ecb2cac5-1488-42dc-9547-5948225ba631"
      },
      "execution_count": null,
      "outputs": [
        {
          "output_type": "stream",
          "name": "stdout",
          "text": [
            "2\n",
            "6\n",
            "Area of the room: 12.0 ft\n"
          ]
        }
      ]
    },
    {
      "cell_type": "markdown",
      "source": [
        "Create a program that reads the length and width of a farmer’s field from the user in feet. Display the area of the field in acres.\n",
        "Hint: There are 43,560 square feet in an acre."
      ],
      "metadata": {
        "id": "pFKHalU766fB"
      }
    },
    {
      "cell_type": "code",
      "source": [
        "length = float(input(\"Length: \"))\n",
        "width = float(input(\"Width: \"))\n",
        "area_in_feet = length*width/43560\n",
        "print(f\"Area of the field in acres: {area_in_feet}\")"
      ],
      "metadata": {
        "colab": {
          "base_uri": "https://localhost:8080/"
        },
        "id": "k6MeIMU_7AEm",
        "outputId": "99bcd75c-3bcd-466b-f464-485e76aa2303"
      },
      "execution_count": null,
      "outputs": [
        {
          "output_type": "stream",
          "name": "stdout",
          "text": [
            "Length: 209\n",
            "Width: 209\n",
            "Area of the field in acres: 1.0027777777777778\n"
          ]
        }
      ]
    },
    {
      "cell_type": "markdown",
      "source": [
        "In many jurisdictions a small deposit is added to drink containers to encourage people to recycle them. In one particular jurisdiction, drink containers holding one liter or less have a $0.10 deposit, and drink containers holding more than one liter have a 0.25 deposit. Write a program that reads the number of containers of each size from the user. Your program should continue by computing and displaying the refund that will be received for returning those containers. Format the output so that it includes a dollar sign and always displays exactly two decimal places."
      ],
      "metadata": {
        "id": "dOMeJ7kx9s2k"
      }
    },
    {
      "cell_type": "code",
      "source": [
        "small = int(input(\"number of small containers less than 1 liter: \"))\n",
        "large = int(input(\"number of containers more than 1 liter: \"))\n",
        "refund = small*0.10 + large*0.25\n",
        "print(f\"The refund for returning the containers is ${refund:.2f}\")"
      ],
      "metadata": {
        "colab": {
          "base_uri": "https://localhost:8080/"
        },
        "id": "btTkYwp3993n",
        "outputId": "b74b1e17-dd0e-4c40-d4b7-90319c289e1d"
      },
      "execution_count": null,
      "outputs": [
        {
          "output_type": "stream",
          "name": "stdout",
          "text": [
            "number of small containers less than 1 liter: 2\n",
            "number of containers more than 1 liter: 3\n",
            "The refund for returning the containers is $0.95\n"
          ]
        }
      ]
    },
    {
      "cell_type": "code",
      "source": [],
      "metadata": {
        "id": "F_qfv27VEonX"
      },
      "execution_count": null,
      "outputs": []
    },
    {
      "cell_type": "markdown",
      "source": [
        "The program that you create for this exercise will begin by reading the cost of a meal ordered at a restaurant from the user. Then your program will compute the tax and tip for the meal. Use your local tax rate when computing the amount of tax owing. Compute the tip as 18 percent of the meal amount (without the tax).The output from your program should include the tax amount, the tip amount, and the grand total for the meal including both the tax and the tip. Format the output so that all of the values are displayed using two decimal places."
      ],
      "metadata": {
        "id": "b6dPn2JDGEfu"
      }
    },
    {
      "cell_type": "code",
      "source": [
        "meal_cost = int(input(\"Enter the cost of the meal: \"))\n",
        "tax_amount = meal_cost*0.18\n",
        "tip_amount = meal_cost*0.18\n",
        "grand_total = meal_cost+tax_amount + tip_amount\n",
        "print(f\"Tax Amount: {tax_amount:.2f}\")\n",
        "print(f\"Tip Amount: {tip_amount:.2f}\")\n",
        "print(f\"Grand Total: {grand_total:.2f}\")\n"
      ],
      "metadata": {
        "id": "aIRYIHjiGQ0O",
        "colab": {
          "base_uri": "https://localhost:8080/"
        },
        "outputId": "eecf3939-874d-425b-b466-0f39c2fd86cb"
      },
      "execution_count": null,
      "outputs": [
        {
          "output_type": "stream",
          "name": "stdout",
          "text": [
            "Enter the cost of the meal: 120\n",
            "Tax Amount: 21.60\n",
            "Tip Amount: 21.60\n",
            "Grand Total: 163.20\n"
          ]
        }
      ]
    },
    {
      "cell_type": "markdown",
      "source": [
        "Write a program that reads a positive integer, n, from the user and then displays the sum of all of the integers from 1 to n. The sum of the first n positive integers can be computed using the formula: sum = (n)(n + 1)/2\n"
      ],
      "metadata": {
        "id": "0WASC-psOVHK"
      }
    },
    {
      "cell_type": "code",
      "source": [
        "n = int(input(\"Enter a positive integer: \"))\n",
        "sum = (n*(n+1))/2\n",
        "print(f\"sum of all of the integers from 1 to {n} is {sum}\")\n",
        "\n",
        "\n"
      ],
      "metadata": {
        "colab": {
          "base_uri": "https://localhost:8080/"
        },
        "id": "YBPt9P6HOcvD",
        "outputId": "cdd70159-2e45-4e66-a126-485e91798fa2"
      },
      "execution_count": null,
      "outputs": [
        {
          "output_type": "stream",
          "name": "stdout",
          "text": [
            "Enter a positive integer: 2\n",
            "sum of all of the integers from 1 to 2 is 3.0\n"
          ]
        }
      ]
    },
    {
      "cell_type": "markdown",
      "source": [
        "An online retailer sells two products: widgets and gizmos. Each widget weighs 75 grams. Each gizmo weighs 112 grams. Write a program that reads the number of widgets and the number of gizmos in an order from the user. Then your program should compute and display the total weight of the order."
      ],
      "metadata": {
        "id": "ZzySQwcrQj27"
      }
    },
    {
      "cell_type": "code",
      "source": [
        "widgets = int(input(\"Enter the number of widgets: \"))\n",
        "gizmos = int(input(\"Enter the number of gizmos: \"))\n",
        "total_weight = widgets*75 + gizmos*112\n",
        "print(f\"total weight of the order is {total_weight}\")\n"
      ],
      "metadata": {
        "colab": {
          "base_uri": "https://localhost:8080/"
        },
        "id": "DI3rZucSQnjK",
        "outputId": "34f84d04-3313-41e9-9e74-d63c77e317a4"
      },
      "execution_count": null,
      "outputs": [
        {
          "output_type": "stream",
          "name": "stdout",
          "text": [
            "Enter the number of widgets: 2\n",
            "Enter the number of gizmos: 1\n",
            "total weight of the order is 262\n"
          ]
        }
      ]
    },
    {
      "cell_type": "markdown",
      "source": [
        "Pretend that you have just opened a new savings account that earns 4 percent interest per year. The interest that you earn is paid at the end of the year, and is added to the balance of the savings account. Write a program that begins by reading the amount of money deposited into the account from the user. Then your program should compute and display the amount in the savings account after 1, 2, and 3 years. Display each amount so that it is rounded to 2 decimal places."
      ],
      "metadata": {
        "id": "7tLuGm6iR3_d"
      }
    },
    {
      "cell_type": "code",
      "source": [
        "amount_of_money = int(input(\"amount of money deposited: \"))\n",
        "year_1 = amount_of_money * 0.04\n",
        "year_2 = amount_of_money * 0.08\n",
        "year_3 = amount_of_money * 0.12\n",
        "print(f\"the amount in the savings account after 1 year: {year_1:.2f}\")\n",
        "print(f\"the amount in the savings account after 2 year: {year_2:.2f}\")\n",
        "print(f\"the amount in the savings account after 3 year: {year_3:.2f}\")"
      ],
      "metadata": {
        "colab": {
          "base_uri": "https://localhost:8080/"
        },
        "id": "SZPOUFd-R9R1",
        "outputId": "f48cb07a-095a-46ab-f7b5-8868cbbfd1f4"
      },
      "execution_count": null,
      "outputs": [
        {
          "output_type": "stream",
          "name": "stdout",
          "text": [
            "amount of money deposited: 1000\n",
            "the amount in the savings account after 1 year: 40.00\n",
            "the amount in the savings account after 2 year: 80.00\n",
            "the amount in the savings account after 3 year: 120.00\n"
          ]
        }
      ]
    },
    {
      "cell_type": "markdown",
      "source": [
        "Create a program that reads two integers, a and b, from the user.Your program should\n",
        "compute and display:\n",
        "• The sum of a and b\n",
        "• The difference when b is subtracted from a\n",
        "• The product of a and b\n",
        "• The quotient when a is divided by b\n",
        "• The remainder when a is divided by b\n",
        "• The result of log10 a\n",
        "• The result of ab\n",
        "Hint: You will probably find the log10 function in the math module helpful\n",
        "for computing the second last item in the list."
      ],
      "metadata": {
        "id": "Hwr-_ADjEGih"
      }
    },
    {
      "cell_type": "code",
      "source": [
        "#import math"
      ],
      "metadata": {
        "id": "SRPX_8g5HGs1"
      },
      "execution_count": null,
      "outputs": []
    },
    {
      "cell_type": "code",
      "source": [
        "a = int(input(\"Enter a number: \"))\n",
        "b = int(input(\"Enter a number: \"))\n",
        "sum = a + b\n",
        "difference = b - a\n",
        "product = a * b\n",
        "quotient = a//b\n",
        "remainder = a%b\n",
        "log = math.log(a, 10)\n",
        "result_ab = a**b\n",
        "print(f\"{sum}\\n{difference}\\n{product}\\n{quotient}\\n{remainder}\\n{log}\\n{result_ab}\")"
      ],
      "metadata": {
        "colab": {
          "base_uri": "https://localhost:8080/"
        },
        "id": "gCnp0dmdEO-F",
        "outputId": "c82feddd-f76e-472f-ecc2-d33edc4272e0"
      },
      "execution_count": null,
      "outputs": [
        {
          "output_type": "stream",
          "name": "stdout",
          "text": [
            "Enter a number: 2\n",
            "Enter a number: 4\n",
            "6\n",
            "2\n",
            "8\n",
            "0\n",
            "2\n",
            "0.30102999566398114\n",
            "16\n"
          ]
        }
      ]
    },
    {
      "cell_type": "markdown",
      "source": [
        "In the United States, fuel efficiency for vehicles is normally expressed in miles-pergallon (MPG). In Canada, fuel efficiency is normally expressed in liters-per-hundred kilometers (L/100 km). Use your research skills to determine how to convert from MPGto L/100 km. Then create a program that reads a value from the user in American units and displays the equivalent fuel efficiency in Canadian units."
      ],
      "metadata": {
        "id": "Emr5iwcmJnuT"
      }
    },
    {
      "cell_type": "code",
      "source": [
        "fuel_efficiency = float(input('American units: '))\n",
        "km_convert = 235.215 / fuel_efficiency\n",
        "print(f\"Fuel efficiency in Canadian units is {km_convert} L/100 km.\")\n"
      ],
      "metadata": {
        "colab": {
          "base_uri": "https://localhost:8080/"
        },
        "id": "ETzDB6FgK1B9",
        "outputId": "86728d6e-6819-446f-e019-4c0d124884ee"
      },
      "execution_count": null,
      "outputs": [
        {
          "output_type": "stream",
          "name": "stdout",
          "text": [
            "American units: 2\n",
            "Fuel efficiency in Canadian units is 117.6075 L/100 km.\n"
          ]
        }
      ]
    },
    {
      "cell_type": "markdown",
      "source": [
        "The surface of the Earth is curved, and the distance between degrees of longitude varies with latitude. As a result, finding the distance between two points on the surface of the Earth is more complicated than simply using the Pythagorean theorem. Let (t1, g1) and (t2, g2) be the latitude and longitude of two points on the Earth’s surface. The distance between these points, following the surface of the Earth, in kilometers is: distance = 6371.01 × arccos(sin(t1) × sin(t2) + cos(t1) × cos(t2) × cos(g1 − g2)) The value 6371.01 in the previous equation wasn’t selected at random. It is the average radius of the Earth in kilometers. Create a program that allows the user to enter the latitude and longitude of two points on the Earth in degrees. Your program should display the distance between the points, following the surface of the earth, in kilometers."
      ],
      "metadata": {
        "id": "k2izJpKRa9eA"
      }
    },
    {
      "cell_type": "code",
      "source": [
        "import math\n",
        "\n",
        "t1 = float(input(\"t1: \"))\n",
        "t2 = float(input(\"t2: \"))\n",
        "g1 = float(input(\"g1: \"))\n",
        "g2 = float(input(\"g2: \"))\n",
        "t1 = math.radians(t1)\n",
        "t2 = math.radians(t2)\n",
        "g1 = math.radians(g1)\n",
        "g2 = math.radians(g2)\n",
        "distance = 6371.01 * math.acos(math.sin(t1)*math.sin(t2) + math.cos(t1)*math.cos(t2) * math.cos(g1-g2))\n",
        "print(f\"the surface of the earth is {distance}\")\n"
      ],
      "metadata": {
        "colab": {
          "base_uri": "https://localhost:8080/"
        },
        "id": "W0aok2n0bP2V",
        "outputId": "10cfb609-b424-47f2-f31b-77936040a0b6"
      },
      "execution_count": null,
      "outputs": [
        {
          "output_type": "stream",
          "name": "stdout",
          "text": [
            "t1: 23\n",
            "t2: 23\n",
            "g1: 24\n",
            "g2: 25\n",
            "the surface of the earth is 102.35543196851442\n"
          ]
        }
      ]
    },
    {
      "cell_type": "markdown",
      "source": [
        "Many people think about their height in feet and inches, even in some countries that\n",
        "primarily use the metric system. Write a program that reads a number of feet from\n",
        "the user, followed by a number of inches. Once these values are read, your program\n",
        "should compute and display the equivalent number of centimeters.\n",
        "Hint: One foot is 12 inches. One inch is 2.54 centimeters."
      ],
      "metadata": {
        "id": "KB9o0ASTeoIY"
      }
    },
    {
      "cell_type": "code",
      "source": [
        "feet = float(input(\"feet: \"))\n",
        "inch = float(input(\"inches: \"))\n",
        "foot = feet * 30.28\n",
        "inches = inch * 2.54\n",
        "print(f\"number of centimeters is {foot}\")\n",
        "print(f\"number of centimeters is {inches}\")"
      ],
      "metadata": {
        "colab": {
          "base_uri": "https://localhost:8080/"
        },
        "id": "H_jGMrmPeqxJ",
        "outputId": "883fd3f5-5deb-4b22-9ae6-bccf4581e3f2"
      },
      "execution_count": null,
      "outputs": [
        {
          "output_type": "stream",
          "name": "stdout",
          "text": [
            "feet: 6\n",
            "inches: 72\n",
            "number of centimeters is 181.68\n",
            "number of centimeters is 182.88\n"
          ]
        }
      ]
    },
    {
      "cell_type": "markdown",
      "source": [
        "In this exercise, you will create a program that begins by reading a measurement\n",
        "in feet from the user. Then your program should display the equivalent distance in\n",
        "inches, yards and miles. Use the Internet to look up the necessary conversion factors\n",
        "if you don’t have them memorized."
      ],
      "metadata": {
        "id": "nFWm_KJWs4NN"
      }
    },
    {
      "cell_type": "code",
      "source": [
        "user = float(input('Enter the measurement in feet: '))\n",
        "inches = user * 12\n",
        "yards = user/3\n",
        "miles =  user/5280\n",
        "print(f'Distance in inches: {inches}')\n",
        "print(f'Distance in yards: {yards}')\n",
        "print(f'Distance in miles: {miles}')"
      ],
      "metadata": {
        "colab": {
          "base_uri": "https://localhost:8080/"
        },
        "id": "l4o_oRPis52f",
        "outputId": "a0ef0f78-f5c7-4236-bd48-538b368d37f2"
      },
      "execution_count": null,
      "outputs": [
        {
          "output_type": "stream",
          "name": "stdout",
          "text": [
            "Enter the measurement in feet: 1200\n",
            "Distance in inches: 14400.0\n",
            "Distance in yards: 400.0\n",
            "Distance in miles: 0.22727272727272727\n"
          ]
        }
      ]
    },
    {
      "cell_type": "markdown",
      "source": [
        "Write a program that begins by reading a radius, r , from the user. The program will\n",
        "continue by computing and displaying the area of a circle with radius r and the\n",
        "volume of a sphere with radius r . Use the pi constant in the math module in your\n",
        "calculations.\n",
        "Hint: The area of a circle is computed using the formula area = πr 2. The\n",
        "volume of a sphere is computed using the formula volume = 4\n",
        "3πr 3."
      ],
      "metadata": {
        "id": "bnnzdryIu2Ru"
      }
    },
    {
      "cell_type": "code",
      "source": [
        "import math\n",
        "\n",
        "radius = float(input('radius: '))\n",
        "area_of_circle = math.pi * (radius**2)\n",
        "volume_of_sphere = 4/3 * math.pi * (radius**3)\n",
        "print(f\"area of a circle: {area_of_circle}\")\n",
        "print(f\"volume of a sphere: {volume_of_sphere}\")"
      ],
      "metadata": {
        "id": "MYQFTGl_xTax",
        "colab": {
          "base_uri": "https://localhost:8080/"
        },
        "outputId": "dc24c0fa-2ad3-409b-89a3-c0bfc286af1d"
      },
      "execution_count": null,
      "outputs": [
        {
          "output_type": "stream",
          "name": "stdout",
          "text": [
            "radius: 3\n",
            "area of a circle: 28.274333882308138\n",
            "volume of a sphere: 113.09733552923254\n"
          ]
        }
      ]
    },
    {
      "cell_type": "markdown",
      "source": [
        "The volume of a cylinder can be computed by multiplying the area of its circular\n",
        "base by its height. Write a program that reads the radius of the cylinder, along with\n",
        "its height, from the user and computes its volume. Display the result rounded to one\n",
        "decimal place."
      ],
      "metadata": {
        "id": "GjSn79Q1L_lq"
      }
    },
    {
      "cell_type": "code",
      "source": [
        "import math\n",
        "\n",
        "radius = float(input('radius of the cylinder: '))\n",
        "height = float(input('height of the cylinder: '))\n",
        "V = math.pi*(radius**2)*height\n",
        "print(f\"Volume of the cyclinder is {round(V,1)}\")"
      ],
      "metadata": {
        "colab": {
          "base_uri": "https://localhost:8080/"
        },
        "id": "9DhsCgmBMAh6",
        "outputId": "3fac11da-ece9-4df9-99d6-d3cf64198c05"
      },
      "execution_count": null,
      "outputs": [
        {
          "output_type": "stream",
          "name": "stdout",
          "text": [
            "radius of the cylinder: 3\n",
            "height of the cylinder: 4\n",
            "Volume of the cyclinder is 113.1\n"
          ]
        }
      ]
    },
    {
      "cell_type": "markdown",
      "source": [
        "Create a program that determines how quickly an object is traveling when it hits the\n",
        "ground. The user will enter the height from which the object is dropped in meters (m).\n",
        "Because the object is dropped its initial speed is 0m/s. Assume that the acceleration\n",
        "due to gravity is 9.8m/s2. You can use the formula vf =\n",
        "\u0002\n",
        "v2\n",
        "i 2ad to compute the\n",
        "final speed, vf , when the initial speed, vi , acceleration, a, and distance, d, are known."
      ],
      "metadata": {
        "id": "J4tJRPAvwIpp"
      }
    },
    {
      "cell_type": "code",
      "source": [
        "import math\n",
        "\n",
        "height = float(input('Enter the heigh in meters(m): '))\n",
        "V =  math.sqrt(2 * 9.8 * height)\n",
        "print(f\"Object is traveling in the speed of {V}.\")\n"
      ],
      "metadata": {
        "colab": {
          "base_uri": "https://localhost:8080/"
        },
        "id": "gPjL_OCCwMRr",
        "outputId": "28dad6fe-94c3-4575-e5ec-2b71a4fcae3e"
      },
      "execution_count": null,
      "outputs": [
        {
          "output_type": "stream",
          "name": "stdout",
          "text": [
            "Enter the heigh in meters(m): 156\n",
            "Object is traveling in the speed of 55.2955694427682.\n"
          ]
        }
      ]
    },
    {
      "cell_type": "markdown",
      "source": [
        "The ideal gas law is a mathematical approximation of the behavior of gasses as\n",
        "pressure, volume and temperature change. It is usually stated as:\n",
        "PV = nRT\n",
        "where P is the pressure in Pascals, V is the volume in liters, n is the amount of\n",
        "substance in moles, R is the ideal gas constant, equal to 8.314 J\n",
        "mol K , and T is the\n",
        "temperature in degrees Kelvin.\n",
        "Write a program that computes the amount of gas in moles when the user supplies\n",
        "the pressure, volume and temperature. Test your program by determining the number\n",
        "of moles of gas in a SCUBA tank. A typical SCUBA tank holds 12 liters of gas at\n",
        "a pressure of 20,000,000 Pascals (approximately 3,000 PSI). Room temperature is\n",
        "approximately 20 degrees Celsius or 68 degrees Fahrenheit."
      ],
      "metadata": {
        "id": "y3-O27FA_qxc"
      }
    },
    {
      "cell_type": "code",
      "source": [
        "P = float(input('Enter the pressure: '))\n",
        "V = float(input('Enter the volume: '))\n",
        "T = float(input('Enter the temperature: '))\n",
        "R = 8.314\n",
        "n = P*V/R*T\n",
        "\n",
        "print(f\"The amount of gas in moles is {n:.2f}\")"
      ],
      "metadata": {
        "colab": {
          "base_uri": "https://localhost:8080/"
        },
        "id": "6wVN0CxO_riw",
        "outputId": "ae529448-2ed0-4c1e-a448-a91d16547d38"
      },
      "execution_count": null,
      "outputs": [
        {
          "output_type": "stream",
          "name": "stdout",
          "text": [
            "Enter the pressure: 3000\n",
            "Enter the volume: 12\n",
            "Enter the temperature: 293.15\n",
            "The amount of gas in moles is 1269352.90\n"
          ]
        }
      ]
    },
    {
      "cell_type": "markdown",
      "source": [
        "The area of a triangle can be computed using the following formula, where b is the\n",
        "length of the base of the triangle, and h is its height:\n",
        "area = b × h\n",
        "2\n",
        "Write a program that allows the user to enter values for b and h. The program\n",
        "should then compute and display the area of a triangle with base length b and height h."
      ],
      "metadata": {
        "id": "1gNVMHLqOMOd"
      }
    },
    {
      "cell_type": "code",
      "source": [
        "b = float(input(\"Enter the length(b): \"))\n",
        "h = float(input(\"Enter the height(h): \"))\n",
        "a = (b*h)/2\n",
        "print(f\" area of a triangle is {a}\")"
      ],
      "metadata": {
        "colab": {
          "base_uri": "https://localhost:8080/"
        },
        "id": "k9NlRzgWTP8v",
        "outputId": "bfd4b03b-66c2-4476-b1b7-8962fd1a3d9e"
      },
      "execution_count": null,
      "outputs": [
        {
          "output_type": "stream",
          "name": "stdout",
          "text": [
            "Enter the length(b): 6\n",
            "Enter the height(h): 4\n",
            " area of a triangle is 12.0\n"
          ]
        }
      ]
    },
    {
      "cell_type": "markdown",
      "source": [
        "In the previous exercise you created a program that computed the area of a triangle\n",
        "when the length of its base and its height were known. It is also possible to compute\n",
        "the area of a triangle when the lengths of all three sides are known. Let s1, s2 and s3\n",
        "be the lengths of the sides. Let s = (s1 + s2 + s3)/2. Then the area of the triangle\n",
        "can be calculated using the following formula:\n",
        "area =\n",
        "\u0003\n",
        "s × (s − s1) × (s − s2) × (s − s3)\n",
        "Develop a program that reads the lengths of the sides of a triangle from the user and\n",
        "displays its area."
      ],
      "metadata": {
        "id": "5WI6R4OHU6xt"
      }
    },
    {
      "cell_type": "code",
      "source": [
        "import math\n",
        "\n",
        "s1 = float(input('Enter side1: '))\n",
        "s2 = float(input('Enter side2: '))\n",
        "s3 = float(input('Enter side3: '))\n",
        "s = (s1+s2++s3)/2\n",
        "\n",
        "area = math.sqrt(s*(s-s1)*(s-s2)*(s-s3))\n",
        "print(f\"Area of a triangle is {s}\")"
      ],
      "metadata": {
        "colab": {
          "base_uri": "https://localhost:8080/"
        },
        "id": "BTf5Uf12U7h2",
        "outputId": "30fcb8fa-7a79-462f-e349-c889012aba65"
      },
      "execution_count": null,
      "outputs": [
        {
          "output_type": "stream",
          "name": "stdout",
          "text": [
            "Enter side1: 3\n",
            "Enter side2: 4\n",
            "Enter side3: 5\n",
            "Area of a triangle is 6.0\n"
          ]
        }
      ]
    },
    {
      "cell_type": "markdown",
      "source": [
        "A polygon is regular if its sides are all the same length and the angles between all of\n",
        "the adjacent sides are equal. The area of a regular polygon can be computed using\n",
        "the following formula, where s is the length of a side and n is the number of sides:\n",
        "area = n × s2\n",
        "4 × tan\n",
        "\u0004\n",
        "π\n",
        "n\n",
        "\u0005\n",
        "Write a program that reads s and n from the user and then displays the area of a\n",
        "regular polygon constructed from these values."
      ],
      "metadata": {
        "id": "NceELL7ydnZw"
      }
    },
    {
      "cell_type": "code",
      "source": [
        "import math\n",
        "\n",
        "s = float(input('Enter the length of a side: '))\n",
        "n = float(input('Enter the number of a side: '))\n",
        "area = (n * s**2)/(4 * math.tan(math.pi/n))\n",
        "\n",
        "print(f\"Area of a regular polygon is {area}\")"
      ],
      "metadata": {
        "colab": {
          "base_uri": "https://localhost:8080/"
        },
        "id": "Ji55JmghdvFs",
        "outputId": "d808b9aa-161f-4f52-ea33-067f636bfd1a"
      },
      "execution_count": null,
      "outputs": [
        {
          "output_type": "stream",
          "name": "stdout",
          "text": [
            "Enter the length of a side: 5\n",
            "Enter the number of a side: 7\n",
            "Area of a regular polygon is 90.84781110003973\n"
          ]
        }
      ]
    },
    {
      "cell_type": "markdown",
      "source": [
        "Create a program that reads a duration from the user as a number of days, hours,\n",
        "minutes, and seconds. Compute and display the total number of seconds represented\n",
        "by this duration."
      ],
      "metadata": {
        "id": "WzDYLDTAhKQ3"
      }
    },
    {
      "cell_type": "code",
      "source": [
        "days = float(input('Enter the Number of days: '))\n",
        "hours = float(input('Enter the Number of hours: '))\n",
        "minutes = float(input('Enter the Number of minutes: '))\n",
        "seconds = float(input('Enter the Number of seconds: '))\n",
        "No_days = days*86400\n",
        "No_hours = hours*3600\n",
        "No_minutes = minutes*60\n",
        "print(f\"Duration of {days} days in seconds is {No_days}\")\n",
        "print(f\"Duration of {hours} hours in seconds is {No_hours}\")\n",
        "print(f\"Duration of {minutes} minutes in seconds is {No_minutes}\")\n",
        "print(f\"Total number of seconds is {seconds}\")\n",
        "\n"
      ],
      "metadata": {
        "colab": {
          "base_uri": "https://localhost:8080/"
        },
        "id": "GkiStzcJhUI1",
        "outputId": "a5b3a454-2661-41d3-e085-3294af53247b"
      },
      "execution_count": null,
      "outputs": [
        {
          "output_type": "stream",
          "name": "stdout",
          "text": [
            "Enter the Number of days: 3\n",
            "Enter the Number of hours: 2\n",
            "Enter the Number of minutes: 5\n",
            "Enter the Number of seconds: 7\n",
            "Duration of 3.0 days in seconds is 259200.0\n",
            "Duration of 2.0 hours in seconds is 7200.0\n",
            "Duration of 5.0 minutes in seconds is 300.0\n",
            "Total number of seconds is 7.0\n"
          ]
        }
      ]
    },
    {
      "cell_type": "markdown",
      "source": [
        "In this exercise you will reverse the process described in the previous exercise.\n",
        "Develop a program that begins by reading a number of seconds from the user.\n",
        "Then your program should display the equivalent amount of time in the form\n",
        "D:HH:MM:SS, where D, HH, MM, and SS represent days, hours, minutes and seconds\n",
        "respectively. The hours, minutes and seconds should all be formatted so that\n",
        "they occupy exactly two digits, with a leading 0 displayed if necessary."
      ],
      "metadata": {
        "id": "e65Ka-g38b_v"
      }
    },
    {
      "cell_type": "code",
      "source": [
        "seconds = int(input(\"Enter the number of seconds: \"))\n",
        "minutes = seconds/ 60\n",
        "seconds %= 60\n",
        "\n",
        "hours = minutes / 60\n",
        "minutes %= 60\n",
        "\n",
        "days = hours / 24\n",
        "hours %= 24\n",
        "\n",
        "print(f\"{days}:{hours}:{minutes}:{seconds}\")\n",
        "\n",
        "\n"
      ],
      "metadata": {
        "colab": {
          "base_uri": "https://localhost:8080/"
        },
        "id": "fgjT8q6i8dAq",
        "outputId": "a0045807-07ec-4ba6-8012-12a57960d369"
      },
      "execution_count": null,
      "outputs": [
        {
          "output_type": "stream",
          "name": "stdout",
          "text": [
            "Enter the number of seconds: 1234567\n",
            "14.288969907407406:6.935277777777742:56.11666666666497:7\n"
          ]
        }
      ]
    },
    {
      "cell_type": "markdown",
      "source": [
        "Python includes a library of functions for working with time, including a function\n",
        "called asctime in the time module. It reads the current time from the computer’s\n",
        "internal clock and returns it in a human-readable format. Write a program\n",
        "that displays the current time and date. Your program will not require any input from\n",
        "the user.italicized text"
      ],
      "metadata": {
        "id": "wqQklRAmFyrU"
      }
    },
    {
      "cell_type": "code",
      "source": [
        "import time\n",
        "x = time.asctime()\n",
        "print(x)"
      ],
      "metadata": {
        "colab": {
          "base_uri": "https://localhost:8080/"
        },
        "id": "AwmKZxv2FzS5",
        "outputId": "be366aa1-b0c9-4202-ffac-b4338d17da2c"
      },
      "execution_count": null,
      "outputs": [
        {
          "output_type": "stream",
          "name": "stdout",
          "text": [
            "Mon May  1 16:15:35 2023\n"
          ]
        }
      ]
    },
    {
      "cell_type": "markdown",
      "source": [
        "Write a program that computes the body mass index (BMI) of an individual. Your\n",
        "program should begin by reading a height and weight from the user. Then it should use one of the following two formulas to compute the BMI before displaying it. If\n",
        "you read the height in inches and the weight in pounds then body mass index is\n",
        "computed using the following formula:\n",
        "BMI = weight\n",
        "height × height\n",
        "× 703.\n",
        "If you read the height in meters and the weight in kilograms then body mass index\n",
        "is computed using this slightly simpler formula:\n",
        "BMI = weight\n",
        "height × height"
      ],
      "metadata": {
        "id": "gHxZbaNeGlrI"
      }
    },
    {
      "cell_type": "code",
      "source": [
        "height = float(input('Enter height in meter: '))\n",
        "weight = float(input('Enter weight in kilograms: '))\n",
        "BMI = (weight)/(height**2)\n",
        "print(f\"body mass index (BMI):  {BMI:.2f}\")"
      ],
      "metadata": {
        "id": "exleEzNYGp5W",
        "colab": {
          "base_uri": "https://localhost:8080/"
        },
        "outputId": "b435dc4d-9329-48d9-c687-330a1bd6260e"
      },
      "execution_count": null,
      "outputs": [
        {
          "output_type": "stream",
          "name": "stdout",
          "text": [
            "Enter height in meter: 1.82\n",
            "Enter weight in kilograms: 64\n",
            "body mass index (BMI):  19.32\n"
          ]
        }
      ]
    },
    {
      "cell_type": "markdown",
      "source": [
        "Write a program that begins by reading a temperature from the user in degrees\n",
        "Celsius. Then your program should display the equivalent temperature in degrees\n",
        "Fahrenheit and degrees Kelvin. The calculations needed to convert between different\n",
        "units of temperature can be found on the internet."
      ],
      "metadata": {
        "id": "LS-pn_FahmlA"
      }
    },
    {
      "cell_type": "code",
      "source": [
        "T = float(input('Enter the temperature in degrees Celsius: '))\n",
        "degrees_F = (T*(9/5))+32\n",
        "kelvin =  ((T - 273.15)*(9/5))+32\n",
        "print(f\"degree Fahrenheit: {degrees_F:.2f}\")\n",
        "print(f'degrees Kelvin: {kelvin:.2f}')"
      ],
      "metadata": {
        "colab": {
          "base_uri": "https://localhost:8080/"
        },
        "id": "bQjkewnihpVh",
        "outputId": "5425cfb0-3ff1-47c3-97e7-1f03441cf67d"
      },
      "execution_count": null,
      "outputs": [
        {
          "output_type": "stream",
          "name": "stdout",
          "text": [
            "Enter the temperature in degrees Celsius: 10\n",
            "degree Fahrenheit: 50.00\n",
            "degrees Kelvin: -441.67\n"
          ]
        }
      ]
    },
    {
      "cell_type": "markdown",
      "source": [
        "In this exercise you will create a program that reads a pressure from the user in kilopascals.\n",
        "Once the pressure has been read your program should report the equivalent\n",
        "pressure in pounds per square inch, millimeters of mercury and atmospheres. Use\n",
        "your research skills to determine the conversion factors between these units."
      ],
      "metadata": {
        "id": "v8C253TDj3vh"
      }
    },
    {
      "cell_type": "code",
      "source": [
        "P = float(input('Enter pressure in kilopascals: '))\n",
        "pounds = P/6.895\n",
        "millimeters = P/7.501\n",
        "atm = P/101.3\n",
        "print(f\"pressure in pounds per square inch {pounds}\")\n",
        "print(f\"pressure in millimeters of mercury  {millimeters}\")\n",
        "print(f'pressure in atmosphere {atm}')"
      ],
      "metadata": {
        "colab": {
          "base_uri": "https://localhost:8080/"
        },
        "id": "BM5IaYZGj4Zq",
        "outputId": "e497db70-7af9-4e65-df8a-7925f50eac22"
      },
      "execution_count": null,
      "outputs": [
        {
          "output_type": "stream",
          "name": "stdout",
          "text": [
            "Enter pressure in kilopascals: 104\n",
            "pressure in pounds per square inch 15.08339376359681\n",
            "pressure in millimeters of mercury  13.864818024263432\n",
            "pressure in atmosphere 1.0266535044422507\n"
          ]
        }
      ]
    },
    {
      "cell_type": "markdown",
      "source": [
        "Develop a program that reads a four-digit integer from the user and displays the sum\n",
        "of the digits in the number. For example, if the user enters 3141 then your program\n",
        "should display 3+1+4+1=9."
      ],
      "metadata": {
        "id": "HWTHTMpSlltK"
      }
    },
    {
      "cell_type": "code",
      "source": [
        "n = (input('Enter four digit integer: '))\n",
        "sum = int(n[0])+int(n[1])+int(n[2])+int(n[3])\n",
        "\n",
        "print(f'sum of the digits in the number: {sum}')"
      ],
      "metadata": {
        "colab": {
          "base_uri": "https://localhost:8080/"
        },
        "id": "b6p4eFgmmuJr",
        "outputId": "a3339a8c-df21-43a4-8744-dae3257c9615"
      },
      "execution_count": null,
      "outputs": [
        {
          "output_type": "stream",
          "name": "stdout",
          "text": [
            "Enter four digit integer: 1234\n",
            "sum of the digits in the number: 10\n"
          ]
        }
      ]
    },
    {
      "cell_type": "markdown",
      "source": [
        "Create a program that reads three integers from the user and displays them in sorted\n",
        "order (from smallest to largest). Use the min and max functions to find the smallest\n",
        "and largest values. The middle value can be found by computing the sum of all three\n",
        "values, and then subtracting the minimum value and the maximum value."
      ],
      "metadata": {
        "id": "fnakC9ZDn63F"
      }
    },
    {
      "cell_type": "code",
      "source": [
        "\n",
        "\n",
        "num1 = int(input(\"Enter the first integer: \"))\n",
        "num2 = int(input(\"Enter the second integer: \"))\n",
        "num3 = int(input(\"Enter the third integer: \"))\n",
        "mini = min(num1, num2, num3)\n",
        "maxi = max(num1, num2, num3)\n",
        "middle = num1 + num2 + num3 - (mini - maxi)\n",
        "print(\"The integers in sorted order are:\", mini, middle, maxi)\n"
      ],
      "metadata": {
        "colab": {
          "base_uri": "https://localhost:8080/"
        },
        "id": "ipnr239do1Ga",
        "outputId": "b383b890-459b-454d-9587-660240403460"
      },
      "execution_count": null,
      "outputs": [
        {
          "output_type": "stream",
          "name": "stdout",
          "text": [
            "Enter the first integer: 1\n",
            "Enter the second integer: 2\n",
            "Enter the third integer: 3\n",
            "The integers in sorted order are: 1 8 3\n"
          ]
        }
      ]
    },
    {
      "cell_type": "markdown",
      "source": [
        "A bakery sells loaves of bread for $3.49 each. Day old bread is discounted by 60\n",
        "percent. Write a program that begins by reading the number of loaves of day old\n",
        "bread being purchased from the user. Then your program should display the regular\n",
        "price for the bread, the discount because it is a day old, and the total price. All of the\n",
        "values should be displayed using two decimal places, and the decimal points in all\n",
        "of the numbers should be aligned when reasonable values are entered by the user."
      ],
      "metadata": {
        "id": "NRU9dteJxWOD"
      }
    },
    {
      "cell_type": "code",
      "source": [
        "num_loaves = int(input('Enter the number of loaves of day old bread: '))\n",
        "regular_price = num_loaves*3.49\n",
        "discount = regular_price * 0.6\n",
        "total = regular_price - discount\n",
        "\n",
        "print(f\"Regular price:   ${regular_price:,.2f}\")\n",
        "print(f\"Discount (60%):  ${discount:,.2f}\")\n",
        "print(f\"Total price:     ${total:,.2f}\")"
      ],
      "metadata": {
        "colab": {
          "base_uri": "https://localhost:8080/"
        },
        "id": "8PC9lFG_xW-4",
        "outputId": "2c41c258-ec5c-4c37-d124-20741d181f7e"
      },
      "execution_count": null,
      "outputs": [
        {
          "output_type": "stream",
          "name": "stdout",
          "text": [
            "Enter the number of loaves of day old bread: 4\n",
            "Regular price:   $13.96\n",
            "Discount (60%):  $8.38\n",
            "Total price:     $5.58\n"
          ]
        }
      ]
    },
    {
      "cell_type": "markdown",
      "source": [
        "When the wind blows in cold weather, the air feels even colder than it actually is\n",
        "because the movement of the air increases the rate of cooling for warm objects, like\n",
        "people. This effect is known as wind chill.\n",
        "In 2001, Canada, the United Kingdom and the United States adopted the following\n",
        "formula for computing the wind chill index. Within the formula Ta is the\n",
        "air temperature in degrees Celsius and V is the wind speed in kilometers per hour.\n",
        "A similar formula with different constant values can be used with temperatures in\n",
        "degrees Fahrenheit and wind speeds in miles per hour.\n",
        "WCI = 13.12 + 0.6215Ta − 11.37V0.16 + 0.3965TaV0.16\n",
        "Write a program that begins by reading the air temperature and wind speed from the\n",
        "user. Once these values have been read your program should display the wind chill\n",
        "index rounded to the closest integer.\n",
        "The wind chill index is only considered valid for temperatures less than or\n",
        "equal to 10 degrees Celsius and wind speeds exceeding 4.8 kilometers per\n",
        "hour."
      ],
      "metadata": {
        "id": "S9ONchkj2kW0"
      }
    },
    {
      "cell_type": "code",
      "source": [
        "import math\n",
        "\n",
        "Ta = float(input(\"Enter the air temperature in Celsius: \"))\n",
        "V = float(input(\"Enter the wind speed in km/h: \"))\n",
        "\n",
        "wci = 13.12 + 0.6215 * Ta - 11.37 * math.pow(V, 0.16) + 0.3965 * Ta * math.pow(V, 0.16)\n",
        "print(f\"The wind chill index is {round(wci,0)}\")"
      ],
      "metadata": {
        "colab": {
          "base_uri": "https://localhost:8080/"
        },
        "id": "J4FxIgRq2njj",
        "outputId": "ce10dbc1-c9c0-4f49-ea3b-20d9e6d7d002"
      },
      "execution_count": null,
      "outputs": [
        {
          "output_type": "stream",
          "name": "stdout",
          "text": [
            "Enter the air temperature in Celsius: 9\n",
            "Enter the wind speed in km/h: 5.1\n",
            "The wind chill index is 9.0\n"
          ]
        }
      ]
    }
  ]
}