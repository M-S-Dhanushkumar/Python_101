{
  "nbformat": 4,
  "nbformat_minor": 0,
  "metadata": {
    "colab": {
      "provenance": [],
      "authorship_tag": "ABX9TyM3ClALueKilQDwvm3ARdTC",
      "include_colab_link": true
    },
    "kernelspec": {
      "name": "python3",
      "display_name": "Python 3"
    },
    "language_info": {
      "name": "python"
    }
  },
  "cells": [
    {
      "cell_type": "markdown",
      "metadata": {
        "id": "view-in-github",
        "colab_type": "text"
      },
      "source": [
        "<a href=\"https://colab.research.google.com/github/M-S-Dhanushkumar/Python_101/blob/main/Pandas_Diabetes_Analysis_Project.ipynb\" target=\"_parent\"><img src=\"https://colab.research.google.com/assets/colab-badge.svg\" alt=\"Open In Colab\"/></a>"
      ]
    },
    {
      "cell_type": "markdown",
      "source": [
        "## **Python Pandas Library**\n",
        "Pandas is like a superhero for handling data in Python. It helps us work with data in a way that makes it easier to understand, analyze, and manipulate.\n",
        "\n",
        "Imagine you have a large table of data, just like an Excel spreadsheet. Pandas allows you to bring that data into Python and perform various operations on it. It helps you organize and make sense of the data."
      ],
      "metadata": {
        "id": "wRaL8m5ifQac"
      }
    },
    {
      "cell_type": "markdown",
      "source": [
        "**Import Pandas:** Importing the Python pandas library is like bringing in a specialized toolbox that contains helpful tools for working with data. It allows you to access functions and capabilities specifically designed to handle data efficiently. By importing pandas, you gain the ability to read, manipulate, analyze, and visualize data more easily in your Python code. It's like equipping yourself with the right tools to handle data-related tasks effectively."
      ],
      "metadata": {
        "id": "67FEmsnuU4g_"
      }
    },
    {
      "cell_type": "code",
      "source": [
        "#To make use of pandas library we have to import it\n",
        "import pandas as pd"
      ],
      "metadata": {
        "id": "kZOBYqqFfV9N"
      },
      "execution_count": 5,
      "outputs": []
    },
    {
      "cell_type": "markdown",
      "source": [
        "**pd.read_csv**: The function pd.read_csv is like a special tool provided by pandas that helps you read data stored in a CSV file. It takes the CSV file's location as input and creates a table-like structure called a DataFrame in Python."
      ],
      "metadata": {
        "id": "ATwjQ0HpVjxH"
      }
    },
    {
      "cell_type": "code",
      "source": [
        "# Read the clinical data from a Cclinical_data.csv file\n",
        "df = pd.read_csv('/content/diabetes.csv')"
      ],
      "metadata": {
        "id": "60tm0uVqf_Z6"
      },
      "execution_count": 51,
      "outputs": []
    },
    {
      "cell_type": "markdown",
      "source": [
        "**head()**: When you have a large DataFrame with lots of rows and columns, it can be overwhelming to display the entire dataset. Instead, you can use head() to get a concise view of the beginning of the DataFrame."
      ],
      "metadata": {
        "id": "FhikMVzbWIyT"
      }
    },
    {
      "cell_type": "code",
      "source": [
        "# Display the first few rows of the DataFrame\n",
        "print(df.head())"
      ],
      "metadata": {
        "colab": {
          "base_uri": "https://localhost:8080/"
        },
        "id": "MEKZ9FbwiMt-",
        "outputId": "7da1debc-8985-4787-a8d6-b83d7e3e3062"
      },
      "execution_count": 50,
      "outputs": [
        {
          "output_type": "stream",
          "name": "stdout",
          "text": [
            "   Pregnancies  Glucose  BP  SkinThickness  Insulin   BMI  \\\n",
            "0            6      148  72             35        0  33.6   \n",
            "1            1       85  66             29        0  26.6   \n",
            "2            8      183  64              0        0  23.3   \n",
            "3            1       89  66             23       94  28.1   \n",
            "4            0      137  40             35      168  43.1   \n",
            "\n",
            "   DiabetesPedigreeFunction  Age  Outcome  \n",
            "0                     0.627   50        1  \n",
            "1                     0.351   31        0  \n",
            "2                     0.672   32        1  \n",
            "3                     0.167   21        0  \n",
            "4                     2.288   33        1  \n"
          ]
        }
      ]
    },
    {
      "cell_type": "markdown",
      "source": [
        "**Select Columns:** When you have a DataFrame containing multiple columns, you may often need to focus on specific columns that are relevant to your analysis or task. Pandas provides various techniques to select specific columns based on your requirements.\n",
        "One common method is to use the square bracket notation [ ] with the column names as strings."
      ],
      "metadata": {
        "id": "Ndu7wr14W48O"
      }
    },
    {
      "cell_type": "code",
      "source": [
        "#selecting specific columns Age and BMI\n",
        "col = df[['Age', 'BMI']]\n",
        "print(col)"
      ],
      "metadata": {
        "colab": {
          "base_uri": "https://localhost:8080/"
        },
        "id": "1h45bMc8r8Q7",
        "outputId": "147a185b-134e-4d07-e71a-365cbd7307a4"
      },
      "execution_count": 43,
      "outputs": [
        {
          "output_type": "stream",
          "name": "stdout",
          "text": [
            "     Age   BMI\n",
            "0     50  33.6\n",
            "1     31  26.6\n",
            "2     32  23.3\n",
            "3     21  28.1\n",
            "4     33  43.1\n",
            "..   ...   ...\n",
            "763   63  32.9\n",
            "764   27  36.8\n",
            "765   30  26.2\n",
            "766   47  30.1\n",
            "767   23  30.4\n",
            "\n",
            "[768 rows x 2 columns]\n"
          ]
        }
      ]
    },
    {
      "cell_type": "markdown",
      "source": [
        "**Filter Data:** Filtering in pandas helps you extract the data you need for analysis, visualization, or further manipulation. It allows you to focus on specific subsets of data that meet particular criteria, enabling you to derive meaningful insights and draw conclusions from your dataset efficiently. (Syntax: df[df['column_name'] > value])"
      ],
      "metadata": {
        "id": "wckhukJmXbKm"
      }
    },
    {
      "cell_type": "code",
      "source": [
        "#Filtering age greater than 30\n",
        "Filter_age = df[df['Age'] > 30]\n",
        "print(Filter_age)"
      ],
      "metadata": {
        "colab": {
          "base_uri": "https://localhost:8080/"
        },
        "id": "HMuSz2t3sfJL",
        "outputId": "a7edd083-351d-46db-dfd9-8d850bec68cd"
      },
      "execution_count": 44,
      "outputs": [
        {
          "output_type": "stream",
          "name": "stdout",
          "text": [
            "     Pregnancies  Glucose  BloodPressure  SkinThickness  Insulin   BMI  \\\n",
            "0              6      148             72             35        0  33.6   \n",
            "1              1       85             66             29        0  26.6   \n",
            "2              8      183             64              0        0  23.3   \n",
            "4              0      137             40             35      168  43.1   \n",
            "8              2      197             70             45      543  30.5   \n",
            "..           ...      ...            ...            ...      ...   ...   \n",
            "759            6      190             92              0        0  35.5   \n",
            "761            9      170             74             31        0  44.0   \n",
            "762            9       89             62              0        0  22.5   \n",
            "763           10      101             76             48      180  32.9   \n",
            "766            1      126             60              0        0  30.1   \n",
            "\n",
            "     DiabetesPedigreeFunction  Age  Outcome  \n",
            "0                       0.627   50        1  \n",
            "1                       0.351   31        0  \n",
            "2                       0.672   32        1  \n",
            "4                       2.288   33        1  \n",
            "8                       0.158   53        1  \n",
            "..                        ...  ...      ...  \n",
            "759                     0.278   66        1  \n",
            "761                     0.403   43        1  \n",
            "762                     0.142   33        0  \n",
            "763                     0.171   63        0  \n",
            "766                     0.349   47        1  \n",
            "\n",
            "[351 rows x 9 columns]\n"
          ]
        }
      ]
    },
    {
      "cell_type": "code",
      "source": [
        "# Filtering the data for patients with high BMI\n",
        "high_bmi_patients = df[df['BMI'] > 30]\n",
        "print(high_bmi_patients)\n"
      ],
      "metadata": {
        "colab": {
          "base_uri": "https://localhost:8080/"
        },
        "id": "rzveygRhk4Kp",
        "outputId": "5407ba8d-092e-47a1-8645-6aa4a986759c"
      },
      "execution_count": 17,
      "outputs": [
        {
          "output_type": "stream",
          "name": "stdout",
          "text": [
            "     Pregnancies  Glucose  BloodPressure  SkinThickness  Insulin   BMI  \\\n",
            "0              6      148             72             35        0  33.6   \n",
            "4              0      137             40             35      168  43.1   \n",
            "6              3       78             50             32       88  31.0   \n",
            "7             10      115              0              0        0  35.3   \n",
            "8              2      197             70             45      543  30.5   \n",
            "..           ...      ...            ...            ...      ...   ...   \n",
            "761            9      170             74             31        0  44.0   \n",
            "763           10      101             76             48      180  32.9   \n",
            "764            2      122             70             27        0  36.8   \n",
            "766            1      126             60              0        0  30.1   \n",
            "767            1       93             70             31        0  30.4   \n",
            "\n",
            "     DiabetesPedigreeFunction  Age  Outcome  \n",
            "0                       0.627   50        1  \n",
            "4                       2.288   33        1  \n",
            "6                       0.248   26        1  \n",
            "7                       0.134   29        0  \n",
            "8                       0.158   53        1  \n",
            "..                        ...  ...      ...  \n",
            "761                     0.403   43        1  \n",
            "763                     0.171   63        0  \n",
            "764                     0.340   27        0  \n",
            "766                     0.349   47        1  \n",
            "767                     0.315   23        0  \n",
            "\n",
            "[465 rows x 9 columns]\n"
          ]
        }
      ]
    },
    {
      "cell_type": "markdown",
      "source": [
        "**rename( ):** When working with data, you may encounter situations where you need to change the names of columns or index labels to make them more meaningful or align with your analysis requirements. The rename() function provides a convenient way to modify these labels. (Syntax: df.rename(columns={'old_name': 'new_name'}))"
      ],
      "metadata": {
        "id": "8vo-Rw3vYpYW"
      }
    },
    {
      "cell_type": "code",
      "source": [
        "#Renaming the Bloodpressure column to BP\n",
        "Rename = df.rename(columns={'BloodPressure': 'BP'}, inplace=True)\n",
        "print(df)"
      ],
      "metadata": {
        "colab": {
          "base_uri": "https://localhost:8080/"
        },
        "id": "yNxvgcg9tJxZ",
        "outputId": "49afe60a-0783-4b5a-baac-2613a7f4bbc5"
      },
      "execution_count": 46,
      "outputs": [
        {
          "output_type": "stream",
          "name": "stdout",
          "text": [
            "     Pregnancies  Glucose  BP  SkinThickness  Insulin   BMI  \\\n",
            "0              6      148  72             35        0  33.6   \n",
            "1              1       85  66             29        0  26.6   \n",
            "2              8      183  64              0        0  23.3   \n",
            "3              1       89  66             23       94  28.1   \n",
            "4              0      137  40             35      168  43.1   \n",
            "..           ...      ...  ..            ...      ...   ...   \n",
            "763           10      101  76             48      180  32.9   \n",
            "764            2      122  70             27        0  36.8   \n",
            "765            5      121  72             23      112  26.2   \n",
            "766            1      126  60              0        0  30.1   \n",
            "767            1       93  70             31        0  30.4   \n",
            "\n",
            "     DiabetesPedigreeFunction  Age  Outcome  \n",
            "0                       0.627   50        1  \n",
            "1                       0.351   31        0  \n",
            "2                       0.672   32        1  \n",
            "3                       0.167   21        0  \n",
            "4                       2.288   33        1  \n",
            "..                        ...  ...      ...  \n",
            "763                     0.171   63        0  \n",
            "764                     0.340   27        0  \n",
            "765                     0.245   30        0  \n",
            "766                     0.349   47        1  \n",
            "767                     0.315   23        0  \n",
            "\n",
            "[768 rows x 9 columns]\n"
          ]
        }
      ]
    },
    {
      "cell_type": "markdown",
      "source": [
        "**dropna():** When you're dealing with data, it's common to encounter missing values represented as NaN or None. These missing values can create issues when performing data analysis or processing. The dropna() function comes to the rescue by allowing you to get rid of rows or columns that have these missing values. In simpler terms, dropna() helps you clean up your data by removing any rows or columns that have missing values so that you can work with a more complete and reliable dataset."
      ],
      "metadata": {
        "id": "uonX62PlZdzb"
      }
    },
    {
      "cell_type": "code",
      "source": [
        "# Drop rows with missing values\n",
        "drop = df.dropna()\n",
        "print(drop)\n"
      ],
      "metadata": {
        "colab": {
          "base_uri": "https://localhost:8080/"
        },
        "id": "U2bifkO2t7qC",
        "outputId": "c95aa61e-cdb7-4f99-813f-ab284dc5c77e"
      },
      "execution_count": 52,
      "outputs": [
        {
          "output_type": "stream",
          "name": "stdout",
          "text": [
            "     Pregnancies  Glucose  BloodPressure  SkinThickness  Insulin   BMI  \\\n",
            "0              6      148             72             35        0  33.6   \n",
            "1              1       85             66             29        0  26.6   \n",
            "2              8      183             64              0        0  23.3   \n",
            "3              1       89             66             23       94  28.1   \n",
            "4              0      137             40             35      168  43.1   \n",
            "..           ...      ...            ...            ...      ...   ...   \n",
            "763           10      101             76             48      180  32.9   \n",
            "764            2      122             70             27        0  36.8   \n",
            "765            5      121             72             23      112  26.2   \n",
            "766            1      126             60              0        0  30.1   \n",
            "767            1       93             70             31        0  30.4   \n",
            "\n",
            "     DiabetesPedigreeFunction  Age  Outcome  \n",
            "0                       0.627   50        1  \n",
            "1                       0.351   31        0  \n",
            "2                       0.672   32        1  \n",
            "3                       0.167   21        0  \n",
            "4                       2.288   33        1  \n",
            "..                        ...  ...      ...  \n",
            "763                     0.171   63        0  \n",
            "764                     0.340   27        0  \n",
            "765                     0.245   30        0  \n",
            "766                     0.349   47        1  \n",
            "767                     0.315   23        0  \n",
            "\n",
            "[768 rows x 9 columns]\n"
          ]
        }
      ]
    },
    {
      "cell_type": "markdown",
      "source": [
        "**fillna( ):** The fillna() function in pandas helps you handle missing values by filling them with specified values or using various methods. It allows you to address the gaps in your data, making it more suitable for analysis and processing."
      ],
      "metadata": {
        "id": "oFKGwaLxZcYG"
      }
    },
    {
      "cell_type": "code",
      "source": [
        "# Fill missing values with a specific value\n",
        "missing_values = df.fillna('NA')\n",
        "print(missing_values)"
      ],
      "metadata": {
        "colab": {
          "base_uri": "https://localhost:8080/"
        },
        "id": "pdE--aTnuJHc",
        "outputId": "7485c9fa-0298-4859-9600-a4569d2487f6"
      },
      "execution_count": 54,
      "outputs": [
        {
          "output_type": "stream",
          "name": "stdout",
          "text": [
            "     Pregnancies  Glucose  BloodPressure  SkinThickness  Insulin   BMI  \\\n",
            "0              6      148             72             35        0  33.6   \n",
            "1              1       85             66             29        0  26.6   \n",
            "2              8      183             64              0        0  23.3   \n",
            "3              1       89             66             23       94  28.1   \n",
            "4              0      137             40             35      168  43.1   \n",
            "..           ...      ...            ...            ...      ...   ...   \n",
            "763           10      101             76             48      180  32.9   \n",
            "764            2      122             70             27        0  36.8   \n",
            "765            5      121             72             23      112  26.2   \n",
            "766            1      126             60              0        0  30.1   \n",
            "767            1       93             70             31        0  30.4   \n",
            "\n",
            "     DiabetesPedigreeFunction  Age  Outcome  \n",
            "0                       0.627   50        1  \n",
            "1                       0.351   31        0  \n",
            "2                       0.672   32        1  \n",
            "3                       0.167   21        0  \n",
            "4                       2.288   33        1  \n",
            "..                        ...  ...      ...  \n",
            "763                     0.171   63        0  \n",
            "764                     0.340   27        0  \n",
            "765                     0.245   30        0  \n",
            "766                     0.349   47        1  \n",
            "767                     0.315   23        0  \n",
            "\n",
            "[768 rows x 9 columns]\n"
          ]
        }
      ]
    },
    {
      "cell_type": "markdown",
      "source": [
        "**mean( ):** When you have a collection of numerical data, you often want to understand the typical or average value. The mean() function comes in handy by providing a straightforward way to calculate this average. (Syntax: df['numbers'].mean())"
      ],
      "metadata": {
        "id": "UrsglFWwaTIR"
      }
    },
    {
      "cell_type": "code",
      "source": [
        "# Calculate the average age of patients\n",
        "average_age = df['Age'].mean()\n",
        "print(\"Average Age:\", average_age)"
      ],
      "metadata": {
        "colab": {
          "base_uri": "https://localhost:8080/"
        },
        "id": "dz_y7rEGiUdT",
        "outputId": "93b050ab-7460-4cbf-f68d-d1dd6bbf0cf9"
      },
      "execution_count": 8,
      "outputs": [
        {
          "output_type": "stream",
          "name": "stdout",
          "text": [
            "Average Age: 33.240885416666664\n"
          ]
        }
      ]
    },
    {
      "cell_type": "code",
      "source": [
        "# Calculate the average age for patients with high BMI\n",
        "average_age_high_bmi = high_bmi_patients['Age'].mean()\n",
        "print(\"Average Age for High BMI Patients:\", average_age_high_bmi)"
      ],
      "metadata": {
        "colab": {
          "base_uri": "https://localhost:8080/"
        },
        "id": "4zTsn4XFofsZ",
        "outputId": "98fff1ce-33ea-4556-c7d5-aa5a45a10bbd"
      },
      "execution_count": 31,
      "outputs": [
        {
          "output_type": "stream",
          "name": "stdout",
          "text": [
            "Average Age for High BMI Patients: 33.79139784946236\n"
          ]
        }
      ]
    },
    {
      "cell_type": "markdown",
      "source": [
        "**describe( ):** By applying describe() to a DataFrame or Series, it computes various statistical measures such as count, mean, standard deviation, minimum value, 25th percentile, median (50th percentile), 75th percentile, and maximum value."
      ],
      "metadata": {
        "id": "8tZIvNW1bRoG"
      }
    },
    {
      "cell_type": "code",
      "source": [
        "# Calculate descriptive statistics of the dataset\n",
        "statistics = df.describe()\n",
        "print(statistics)"
      ],
      "metadata": {
        "colab": {
          "base_uri": "https://localhost:8080/"
        },
        "id": "qGvEAUzWjlXw",
        "outputId": "9891904c-6b4d-4f14-f8aa-63febc7aeaf1"
      },
      "execution_count": 14,
      "outputs": [
        {
          "output_type": "stream",
          "name": "stdout",
          "text": [
            "       Pregnancies     Glucose  BloodPressure  SkinThickness     Insulin  \\\n",
            "count   768.000000  768.000000     768.000000     768.000000  768.000000   \n",
            "mean      3.845052  120.894531      69.105469      20.536458   79.799479   \n",
            "std       3.369578   31.972618      19.355807      15.952218  115.244002   \n",
            "min       0.000000    0.000000       0.000000       0.000000    0.000000   \n",
            "25%       1.000000   99.000000      62.000000       0.000000    0.000000   \n",
            "50%       3.000000  117.000000      72.000000      23.000000   30.500000   \n",
            "75%       6.000000  140.250000      80.000000      32.000000  127.250000   \n",
            "max      17.000000  199.000000     122.000000      99.000000  846.000000   \n",
            "\n",
            "              BMI  DiabetesPedigreeFunction         Age     Outcome  \n",
            "count  768.000000                768.000000  768.000000  768.000000  \n",
            "mean    31.992578                  0.471876   33.240885    0.348958  \n",
            "std      7.884160                  0.331329   11.760232    0.476951  \n",
            "min      0.000000                  0.078000   21.000000    0.000000  \n",
            "25%     27.300000                  0.243750   24.000000    0.000000  \n",
            "50%     32.000000                  0.372500   29.000000    0.000000  \n",
            "75%     36.600000                  0.626250   41.000000    1.000000  \n",
            "max     67.100000                  2.420000   81.000000    1.000000  \n"
          ]
        }
      ]
    },
    {
      "cell_type": "markdown",
      "source": [
        "**groupby( ):** When you have a lot of data, sometimes you want to organize and understand it better by grouping it into categories or groups. The groupby() function in pandas helps you do that by grouping the data based on the values in one or more columns. It allows you to bring similar data together so that you can analyze and summarize it more easily. (**Syntax: df.groupby('category')**).                                                  \n",
        "\n",
        "Here we used combined, the apply() and lambda syntax allow you to apply a custom function to each element or row/column of a DataFrame using a concise, inline approach."
      ],
      "metadata": {
        "id": "9FNeMjMdcFo4"
      }
    },
    {
      "cell_type": "code",
      "source": [
        "#group the data by ages and pregnancies of Insulin  in descending order.\n",
        "grouped_data = df.groupby(['Age', 'Pregnancies']).apply(lambda x: x.sort_values('Insulin', ascending=False))\n",
        "print(grouped_data)"
      ],
      "metadata": {
        "colab": {
          "base_uri": "https://localhost:8080/"
        },
        "id": "tz7fBV86mp9i",
        "outputId": "ea7501d3-2a10-4a10-ecb0-6109cd5fe8dd"
      },
      "execution_count": 25,
      "outputs": [
        {
          "output_type": "stream",
          "name": "stdout",
          "text": [
            "                     Pregnancies  Glucose  BloodPressure  SkinThickness  \\\n",
            "Age Pregnancies                                                           \n",
            "21  0           220            0      177             60             29   \n",
            "                713            0      134             58             20   \n",
            "                511            0      139             62             17   \n",
            "                414            0      138             60             35   \n",
            "                307            0      137             68             14   \n",
            "...                          ...      ...            ...            ...   \n",
            "69  5           123            5      132             80              0   \n",
            "                684            5      136             82              0   \n",
            "70  4           666            4      145             82             18   \n",
            "72  2           453            2      119              0              0   \n",
            "81  9           459            9      134             74             33   \n",
            "\n",
            "                     Insulin   BMI  DiabetesPedigreeFunction  Age  Outcome  \n",
            "Age Pregnancies                                                             \n",
            "21  0           220      478  34.6                     1.072   21        1  \n",
            "                713      291  26.4                     0.352   21        0  \n",
            "                511      210  22.1                     0.207   21        0  \n",
            "                414      167  34.6                     0.534   21        1  \n",
            "                307      148  24.8                     0.143   21        0  \n",
            "...                      ...   ...                       ...  ...      ...  \n",
            "69  5           123        0  26.8                     0.186   69        0  \n",
            "                684        0   0.0                     0.640   69        0  \n",
            "70  4           666        0  32.5                     0.235   70        1  \n",
            "72  2           453        0  19.6                     0.832   72        0  \n",
            "81  9           459       60  25.9                     0.460   81        0  \n",
            "\n",
            "[768 rows x 9 columns]\n"
          ]
        }
      ]
    },
    {
      "cell_type": "markdown",
      "source": [
        "**to_csv()**: Using to_csv(), you can easily save your DataFrame as a CSV file, which can be opened and read by various software applications, including spreadsheet programs like Microsoft Excel. This function is valuable for data storage, sharing, and transferring data between different platforms or tools.  \n",
        "The general syntax for to_csv() is df.to_csv('file_path.csv', sep=',', index=False), where df is the DataFrame you want to save, 'file_path.csv' is the desired file path and name, sep specifies the delimiter used to separate the values (default is a comma), and index indicates whether to include the row index in the output file (default is True)."
      ],
      "metadata": {
        "id": "Vgj8-D5beQUi"
      }
    },
    {
      "cell_type": "code",
      "source": [
        "# Write the results to a new CSV file\n",
        "df.to_csv('diabetes_analysis.csv', index=False)"
      ],
      "metadata": {
        "id": "48YpEwx3pD4a"
      },
      "execution_count": 32,
      "outputs": []
    }
  ]
}