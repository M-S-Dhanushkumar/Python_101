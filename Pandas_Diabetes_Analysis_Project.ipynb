{
  "nbformat": 4,
  "nbformat_minor": 0,
  "metadata": {
    "colab": {
      "provenance": [],
      "authorship_tag": "ABX9TyMfUbfUfc40iW1NzET6Gc4o",
      "include_colab_link": true
    },
    "kernelspec": {
      "name": "python3",
      "display_name": "Python 3"
    },
    "language_info": {
      "name": "python"
    }
  },
  "cells": [
    {
      "cell_type": "markdown",
      "metadata": {
        "id": "view-in-github",
        "colab_type": "text"
      },
      "source": [
        "<a href=\"https://colab.research.google.com/github/M-S-Dhanushkumar/Python_101/blob/main/Pandas_Diabetes_Analysis_Project.ipynb\" target=\"_parent\"><img src=\"https://colab.research.google.com/assets/colab-badge.svg\" alt=\"Open In Colab\"/></a>"
      ]
    },
    {
      "cell_type": "markdown",
      "source": [
        "Pandas is a powerful library for data manipulation and analysis, and it offers a wide range of functions and methods to work with tabular data effectively."
      ],
      "metadata": {
        "id": "wRaL8m5ifQac"
      }
    },
    {
      "cell_type": "code",
      "source": [
        "#To make use of pandas library we have to import it\n",
        "\n",
        "import pandas as pd"
      ],
      "metadata": {
        "id": "kZOBYqqFfV9N"
      },
      "execution_count": 5,
      "outputs": []
    },
    {
      "cell_type": "code",
      "source": [
        "# Create a pandas DataFrame for the dataset\n",
        "#df = pd.DataFrame(data=diabetes.data, columns=diabetes.feature_names)\n"
      ],
      "metadata": {
        "id": "3YmD6SJfjyQj"
      },
      "execution_count": 13,
      "outputs": []
    },
    {
      "cell_type": "code",
      "source": [
        "# Read the clinical data from a Cclinical_data.csv file\n",
        "df = pd.read_csv('/content/diabetes.csv')"
      ],
      "metadata": {
        "id": "60tm0uVqf_Z6"
      },
      "execution_count": 6,
      "outputs": []
    },
    {
      "cell_type": "code",
      "source": [
        "# Display the first few rows of the DataFrame\n",
        "print(df.head())"
      ],
      "metadata": {
        "colab": {
          "base_uri": "https://localhost:8080/"
        },
        "id": "MEKZ9FbwiMt-",
        "outputId": "92a98c4b-cb2a-4453-b645-bd95ad32e977"
      },
      "execution_count": 7,
      "outputs": [
        {
          "output_type": "stream",
          "name": "stdout",
          "text": [
            "   Pregnancies  Glucose  BloodPressure  SkinThickness  Insulin   BMI  \\\n",
            "0            6      148             72             35        0  33.6   \n",
            "1            1       85             66             29        0  26.6   \n",
            "2            8      183             64              0        0  23.3   \n",
            "3            1       89             66             23       94  28.1   \n",
            "4            0      137             40             35      168  43.1   \n",
            "\n",
            "   DiabetesPedigreeFunction  Age  Outcome  \n",
            "0                     0.627   50        1  \n",
            "1                     0.351   31        0  \n",
            "2                     0.672   32        1  \n",
            "3                     0.167   21        0  \n",
            "4                     2.288   33        1  \n"
          ]
        }
      ]
    },
    {
      "cell_type": "code",
      "source": [
        "# Calculate the average age of patients\n",
        "average_age = df['Age'].mean()\n",
        "print(\"Average Age:\", average_age)"
      ],
      "metadata": {
        "colab": {
          "base_uri": "https://localhost:8080/"
        },
        "id": "dz_y7rEGiUdT",
        "outputId": "93b050ab-7460-4cbf-f68d-d1dd6bbf0cf9"
      },
      "execution_count": 8,
      "outputs": [
        {
          "output_type": "stream",
          "name": "stdout",
          "text": [
            "Average Age: 33.240885416666664\n"
          ]
        }
      ]
    },
    {
      "cell_type": "code",
      "source": [
        "# Calculate descriptive statistics of the dataset\n",
        "statistics = df.describe()\n",
        "print(statistics)"
      ],
      "metadata": {
        "colab": {
          "base_uri": "https://localhost:8080/"
        },
        "id": "qGvEAUzWjlXw",
        "outputId": "9891904c-6b4d-4f14-f8aa-63febc7aeaf1"
      },
      "execution_count": 14,
      "outputs": [
        {
          "output_type": "stream",
          "name": "stdout",
          "text": [
            "       Pregnancies     Glucose  BloodPressure  SkinThickness     Insulin  \\\n",
            "count   768.000000  768.000000     768.000000     768.000000  768.000000   \n",
            "mean      3.845052  120.894531      69.105469      20.536458   79.799479   \n",
            "std       3.369578   31.972618      19.355807      15.952218  115.244002   \n",
            "min       0.000000    0.000000       0.000000       0.000000    0.000000   \n",
            "25%       1.000000   99.000000      62.000000       0.000000    0.000000   \n",
            "50%       3.000000  117.000000      72.000000      23.000000   30.500000   \n",
            "75%       6.000000  140.250000      80.000000      32.000000  127.250000   \n",
            "max      17.000000  199.000000     122.000000      99.000000  846.000000   \n",
            "\n",
            "              BMI  DiabetesPedigreeFunction         Age     Outcome  \n",
            "count  768.000000                768.000000  768.000000  768.000000  \n",
            "mean    31.992578                  0.471876   33.240885    0.348958  \n",
            "std      7.884160                  0.331329   11.760232    0.476951  \n",
            "min      0.000000                  0.078000   21.000000    0.000000  \n",
            "25%     27.300000                  0.243750   24.000000    0.000000  \n",
            "50%     32.000000                  0.372500   29.000000    0.000000  \n",
            "75%     36.600000                  0.626250   41.000000    1.000000  \n",
            "max     67.100000                  2.420000   81.000000    1.000000  \n"
          ]
        }
      ]
    },
    {
      "cell_type": "code",
      "source": [
        "# Filter the data for patients with high BMI\n",
        "high_bmi_patients = df[df['BMI'] > 30]\n",
        "print(high_bmi_patients)\n"
      ],
      "metadata": {
        "colab": {
          "base_uri": "https://localhost:8080/"
        },
        "id": "rzveygRhk4Kp",
        "outputId": "5407ba8d-092e-47a1-8645-6aa4a986759c"
      },
      "execution_count": 17,
      "outputs": [
        {
          "output_type": "stream",
          "name": "stdout",
          "text": [
            "     Pregnancies  Glucose  BloodPressure  SkinThickness  Insulin   BMI  \\\n",
            "0              6      148             72             35        0  33.6   \n",
            "4              0      137             40             35      168  43.1   \n",
            "6              3       78             50             32       88  31.0   \n",
            "7             10      115              0              0        0  35.3   \n",
            "8              2      197             70             45      543  30.5   \n",
            "..           ...      ...            ...            ...      ...   ...   \n",
            "761            9      170             74             31        0  44.0   \n",
            "763           10      101             76             48      180  32.9   \n",
            "764            2      122             70             27        0  36.8   \n",
            "766            1      126             60              0        0  30.1   \n",
            "767            1       93             70             31        0  30.4   \n",
            "\n",
            "     DiabetesPedigreeFunction  Age  Outcome  \n",
            "0                       0.627   50        1  \n",
            "4                       2.288   33        1  \n",
            "6                       0.248   26        1  \n",
            "7                       0.134   29        0  \n",
            "8                       0.158   53        1  \n",
            "..                        ...  ...      ...  \n",
            "761                     0.403   43        1  \n",
            "763                     0.171   63        0  \n",
            "764                     0.340   27        0  \n",
            "766                     0.349   47        1  \n",
            "767                     0.315   23        0  \n",
            "\n",
            "[465 rows x 9 columns]\n"
          ]
        }
      ]
    },
    {
      "cell_type": "code",
      "source": [
        "#group the data by ages and pregnancies of Insulin  in descending order.\n",
        "grouped_data = df.groupby(['Age', 'Pregnancies']).apply(lambda x: x.sort_values('Insulin', ascending=False))\n",
        "print(grouped_data)"
      ],
      "metadata": {
        "colab": {
          "base_uri": "https://localhost:8080/"
        },
        "id": "tz7fBV86mp9i",
        "outputId": "ea7501d3-2a10-4a10-ecb0-6109cd5fe8dd"
      },
      "execution_count": 25,
      "outputs": [
        {
          "output_type": "stream",
          "name": "stdout",
          "text": [
            "                     Pregnancies  Glucose  BloodPressure  SkinThickness  \\\n",
            "Age Pregnancies                                                           \n",
            "21  0           220            0      177             60             29   \n",
            "                713            0      134             58             20   \n",
            "                511            0      139             62             17   \n",
            "                414            0      138             60             35   \n",
            "                307            0      137             68             14   \n",
            "...                          ...      ...            ...            ...   \n",
            "69  5           123            5      132             80              0   \n",
            "                684            5      136             82              0   \n",
            "70  4           666            4      145             82             18   \n",
            "72  2           453            2      119              0              0   \n",
            "81  9           459            9      134             74             33   \n",
            "\n",
            "                     Insulin   BMI  DiabetesPedigreeFunction  Age  Outcome  \n",
            "Age Pregnancies                                                             \n",
            "21  0           220      478  34.6                     1.072   21        1  \n",
            "                713      291  26.4                     0.352   21        0  \n",
            "                511      210  22.1                     0.207   21        0  \n",
            "                414      167  34.6                     0.534   21        1  \n",
            "                307      148  24.8                     0.143   21        0  \n",
            "...                      ...   ...                       ...  ...      ...  \n",
            "69  5           123        0  26.8                     0.186   69        0  \n",
            "                684        0   0.0                     0.640   69        0  \n",
            "70  4           666        0  32.5                     0.235   70        1  \n",
            "72  2           453        0  19.6                     0.832   72        0  \n",
            "81  9           459       60  25.9                     0.460   81        0  \n",
            "\n",
            "[768 rows x 9 columns]\n"
          ]
        }
      ]
    },
    {
      "cell_type": "code",
      "source": [
        "# Calculate the average age for patients with high BMI\n",
        "average_age_high_bmi = high_bmi_patients['Age'].mean()\n",
        "print(\"Average Age for High BMI Patients:\", average_age_high_bmi)"
      ],
      "metadata": {
        "colab": {
          "base_uri": "https://localhost:8080/"
        },
        "id": "4zTsn4XFofsZ",
        "outputId": "98fff1ce-33ea-4556-c7d5-aa5a45a10bbd"
      },
      "execution_count": 31,
      "outputs": [
        {
          "output_type": "stream",
          "name": "stdout",
          "text": [
            "Average Age for High BMI Patients: 33.79139784946236\n"
          ]
        }
      ]
    },
    {
      "cell_type": "code",
      "source": [
        "# Write the results to a new CSV file\n",
        "df.to_csv('diabetes_analysis.csv', index=False)"
      ],
      "metadata": {
        "id": "48YpEwx3pD4a"
      },
      "execution_count": 32,
      "outputs": []
    }
  ]
}