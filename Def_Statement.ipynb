{
  "nbformat": 4,
  "nbformat_minor": 0,
  "metadata": {
    "colab": {
      "provenance": [],
      "authorship_tag": "ABX9TyNowxkXrp/dFLLlcBhW3N/j",
      "include_colab_link": true
    },
    "kernelspec": {
      "name": "python3",
      "display_name": "Python 3"
    },
    "language_info": {
      "name": "python"
    }
  },
  "cells": [
    {
      "cell_type": "markdown",
      "metadata": {
        "id": "view-in-github",
        "colab_type": "text"
      },
      "source": [
        "<a href=\"https://colab.research.google.com/github/M-S-Dhanushkumar/Python_101/blob/main/Def_Statement.ipynb\" target=\"_parent\"><img src=\"https://colab.research.google.com/assets/colab-badge.svg\" alt=\"Open In Colab\"/></a>"
      ]
    },
    {
      "cell_type": "markdown",
      "source": [
        "Write a program to prompt the user for hours and rate per hour using input to compute gross pay. Pay should be the normal rate for hours up to 40 and time-and-a-half for the hourly rate for all hours worked above 40 hours. Put the logic to do the computation of pay in a function called computepay() and use the function to do the computation. The function should return a value. Use 45 hours and a rate of 10.50 per hour to test the program (the pay should be 498.75). You should use input to read a string and float() to convert the string to a number. Do not worry about error checking the user input unless you want to - you can assume the user types numbers properly. Do not name your variable sum or use the sum() function."
      ],
      "metadata": {
        "id": "qDmZXS66BxWr"
      }
    },
    {
      "cell_type": "code",
      "execution_count": 9,
      "metadata": {
        "colab": {
          "base_uri": "https://localhost:8080/"
        },
        "id": "tl0FMdBfBwvW",
        "outputId": "d5bab8b2-e630-4e10-8b9d-8ff4d7b567ce"
      },
      "outputs": [
        {
          "output_type": "stream",
          "name": "stdout",
          "text": [
            "Enter the Hours: 45\n",
            "Enter the Rate per hour: 10.50\n",
            "Pay 498.75\n"
          ]
        }
      ],
      "source": [
        "def computepay(h,r):\n",
        "  if h <= 40:\n",
        "    pay = h * r\n",
        "  else:\n",
        "    Regular = 40 * r\n",
        "    OT = (h - 40) * (r * 1.5)\n",
        "    pay = Regular + OT\n",
        "  return pay\n",
        "\n",
        "\n",
        "h = float(input(\"Enter the Hours: \"))\n",
        "r = float(input(\"Enter the Rate per hour: \"))\n",
        "\n",
        "p = computepay(h,r)\n",
        "print(\"Pay\", p)\n"
      ]
    }
  ]
}